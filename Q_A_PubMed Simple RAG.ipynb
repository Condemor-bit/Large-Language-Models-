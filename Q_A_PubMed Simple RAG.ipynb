{
  "nbformat": 4,
  "nbformat_minor": 0,
  "metadata": {
    "colab": {
      "provenance": [],
      "gpuType": "T4",
      "authorship_tag": "ABX9TyNqZ+OiOToPQn61w+KT9fUu",
      "include_colab_link": true
    },
    "kernelspec": {
      "name": "python3",
      "display_name": "Python 3"
    },
    "language_info": {
      "name": "python"
    },
    "accelerator": "GPU"
  },
  "cells": [
    {
      "cell_type": "markdown",
      "metadata": {
        "id": "view-in-github",
        "colab_type": "text"
      },
      "source": [
        "<a href=\"https://colab.research.google.com/github/Condemor-bit/Large-Language-Models-/blob/main/Q_A_PubMed.ipynb\" target=\"_parent\"><img src=\"https://colab.research.google.com/assets/colab-badge.svg\" alt=\"Open In Colab\"/></a>"
      ]
    },
    {
      "cell_type": "markdown",
      "source": [
        "\"This is a simple RAG system using LlamaIndex and Zephyr-7b for PubMed searches.\n",
        "\n",
        "28/12/2023"
      ],
      "metadata": {
        "id": "dxYqSZfoKMgw"
      }
    },
    {
      "cell_type": "code",
      "execution_count": 13,
      "metadata": {
        "cellView": "form",
        "id": "juPipuNc2iHJ"
      },
      "outputs": [],
      "source": [
        "#@title 1º) Change the runtime environment to 'T4 GPU' and install the dependencies\n",
        "#%%capture\n",
        "!pip install -q --upgrade git+https://github.com/huggingface/transformers\n",
        "!pip install -q bitsandbytes\n",
        "!pip install -q accelerate\n",
        "!pip install -q llama-index\n",
        "!pip install -q pypdf\n",
        "!pip install -q docx2txt\n",
        "!pip install -q llama-index[local_models]\n",
        "!pip install -q llama-index[query_tools]\n",
        "print(\"=========================\")\n",
        "print(\"Proceed to the next cell.\")"
      ]
    },
    {
      "cell_type": "code",
      "source": [
        "#@title 2º) Load the model\n",
        "\n",
        "import torch\n",
        "from transformers import BitsAndBytesConfig\n",
        "from llama_index.prompts import PromptTemplate\n",
        "from llama_index.llms import HuggingFaceLLM\n",
        "from llama_index import ServiceContext\n",
        "\n",
        "quantization_config = BitsAndBytesConfig(\n",
        "    load_in_4bit=True,\n",
        "    bnb_4bit_compute_dtype=torch.float16,\n",
        "    bnb_4bit_quant_type=\"nf4\",\n",
        "    bnb_4bit_use_double_quant=True,\n",
        ")\n",
        "\n",
        "\n",
        "def messages_to_prompt(messages):\n",
        "  prompt = \"\"\n",
        "  for message in messages:\n",
        "    if message.role == 'system':\n",
        "      prompt += f\"<|system|>\\n{message.content}</s>\\n\"\n",
        "    elif message.role == 'user':\n",
        "      prompt += f\"<|user|>\\n{message.content}</s>\\n\"\n",
        "    elif message.role == 'assistant':\n",
        "      prompt += f\"<|assistant|>\\n{message.content}</s>\\n\"\n",
        "\n",
        "  # ensure we start with a system prompt, insert blank if needed\n",
        "  if not prompt.startswith(\"<|system|>\\n\"):\n",
        "    prompt = \"<|system|>\\n</s>\\n\" + prompt\n",
        "\n",
        "  # add final assistant prompt\n",
        "  prompt = prompt + \"<|assistant|>\\n\"\n",
        "\n",
        "  return prompt\n",
        "\n",
        "\n",
        "llm = HuggingFaceLLM(\n",
        "    model_name=\"HuggingFaceH4/zephyr-7b-beta\",\n",
        "    tokenizer_name=\"HuggingFaceH4/zephyr-7b-beta\",\n",
        "    query_wrapper_prompt=PromptTemplate(\"<|system|>\\n</s>\\n<|user|>\\n{query_str}</s>\\n<|assistant|>\\n\"),\n",
        "    context_window=3900,\n",
        "    max_new_tokens= 1024,#256,\n",
        "    model_kwargs={\"quantization_config\": quantization_config},\n",
        "    # tokenizer_kwargs={},\n",
        "    generate_kwargs={\"temperature\": 0.7, \"top_k\": 50, \"top_p\": 0.95},\n",
        "    messages_to_prompt=messages_to_prompt,\n",
        "    device_map=\"auto\",\n",
        ")\n",
        "\n",
        "\n",
        "#embed model\n",
        "service_context = ServiceContext.from_defaults(llm=llm, embed_model=\"local:BAAI/bge-small-en-v1.5\", chunk_size=512, chunk_overlap=50)\n",
        "\n",
        "\n",
        "print(\"=========================\")\n",
        "print(\"Proceed to the next cell.\")"
      ],
      "metadata": {
        "cellView": "form",
        "id": "qawnVq0A3LcY"
      },
      "execution_count": null,
      "outputs": []
    },
    {
      "cell_type": "markdown",
      "source": [
        "#*At this point, you have the model and the dependencies installed. Avoid re-running these cells (1º and 2º).*\n",
        "\n",
        "\n"
      ],
      "metadata": {
        "id": "3xvjBMkhAGX4"
      }
    },
    {
      "cell_type": "code",
      "source": [
        "#@title 3º) Select the number of first articles and the keywords to query following the same format as for PubMed. Perform the search and create the query vectors\n",
        "from llama_index import download_loader\n",
        "\n",
        "\n",
        "Max_results = 20 # @param {type:\"integer\"}\n",
        "Search_Query = \"(diabetes) AND (cardiovascular risk factors)\"     #@param {type: \"string\"}\n",
        "\n",
        "PubmedReader = download_loader(\"PubmedReader\")\n",
        "loader = PubmedReader()\n",
        "documents = loader.load_data(search_query=f\"\"\"{Search_Query}\"\"\", max_results=Max_results)\n",
        "\n",
        "from llama_index import VectorStoreIndex\n",
        "\n",
        "index = VectorStoreIndex.from_documents(documents, service_context=service_context)\n",
        "\n",
        "print(\"=========================\")\n",
        "print(\"Proceed to the next cell.\")"
      ],
      "metadata": {
        "colab": {
          "base_uri": "https://localhost:8080/"
        },
        "cellView": "form",
        "id": "-ncxxDK93fPf",
        "outputId": "a36f2408-a8ba-429b-fb6b-8b06d8dce9cc"
      },
      "execution_count": 31,
      "outputs": [
        {
          "output_type": "stream",
          "name": "stdout",
          "text": [
            "https://eutils.ncbi.nlm.nih.gov/entrez/eutils/efetch.fcgi?id=10751216&db=pmc\n",
            "https://eutils.ncbi.nlm.nih.gov/entrez/eutils/efetch.fcgi?id=10751209&db=pmc\n",
            "https://eutils.ncbi.nlm.nih.gov/entrez/eutils/efetch.fcgi?id=10751160&db=pmc\n",
            "https://eutils.ncbi.nlm.nih.gov/entrez/eutils/efetch.fcgi?id=10751141&db=pmc\n",
            "https://eutils.ncbi.nlm.nih.gov/entrez/eutils/efetch.fcgi?id=10751107&db=pmc\n",
            "https://eutils.ncbi.nlm.nih.gov/entrez/eutils/efetch.fcgi?id=10751045&db=pmc\n",
            "https://eutils.ncbi.nlm.nih.gov/entrez/eutils/efetch.fcgi?id=10751026&db=pmc\n",
            "https://eutils.ncbi.nlm.nih.gov/entrez/eutils/efetch.fcgi?id=10750989&db=pmc\n",
            "https://eutils.ncbi.nlm.nih.gov/entrez/eutils/efetch.fcgi?id=10750977&db=pmc\n",
            "https://eutils.ncbi.nlm.nih.gov/entrez/eutils/efetch.fcgi?id=10750974&db=pmc\n",
            "https://eutils.ncbi.nlm.nih.gov/entrez/eutils/efetch.fcgi?id=10750805&db=pmc\n",
            "https://eutils.ncbi.nlm.nih.gov/entrez/eutils/efetch.fcgi?id=10750528&db=pmc\n",
            "https://eutils.ncbi.nlm.nih.gov/entrez/eutils/efetch.fcgi?id=10750526&db=pmc\n",
            "https://eutils.ncbi.nlm.nih.gov/entrez/eutils/efetch.fcgi?id=10750439&db=pmc\n",
            "https://eutils.ncbi.nlm.nih.gov/entrez/eutils/efetch.fcgi?id=10750365&db=pmc\n",
            "https://eutils.ncbi.nlm.nih.gov/entrez/eutils/efetch.fcgi?id=10750044&db=pmc\n",
            "https://eutils.ncbi.nlm.nih.gov/entrez/eutils/efetch.fcgi?id=10750041&db=pmc\n",
            "https://eutils.ncbi.nlm.nih.gov/entrez/eutils/efetch.fcgi?id=10750025&db=pmc\n",
            "https://eutils.ncbi.nlm.nih.gov/entrez/eutils/efetch.fcgi?id=10750010&db=pmc\n",
            "https://eutils.ncbi.nlm.nih.gov/entrez/eutils/efetch.fcgi?id=10750008&db=pmc\n",
            "=========================\n",
            "Proceed to the next cell.\n"
          ]
        }
      ]
    },
    {
      "cell_type": "code",
      "source": [
        "#@title 4º) Interact with the data\n",
        "import warnings\n",
        "warnings.filterwarnings(\"ignore\", category=UserWarning, module=\"transformers.generation.configuration_utils\")\n",
        "query_engine = index.as_query_engine(similarity_top_k=4) #similarity_top_k=2 default se puede dejar vacio\n",
        "query = input(\"How can I help you?: \")\n",
        "response = query_engine.query(f\"\"\" {query} \"\"\")\n",
        "print(response)"
      ],
      "metadata": {
        "colab": {
          "base_uri": "https://localhost:8080/"
        },
        "cellView": "form",
        "id": "8yCwBiWp3oR-",
        "outputId": "25a123aa-1e85-4967-8249-eab28e27e037"
      },
      "execution_count": 34,
      "outputs": [
        {
          "output_type": "stream",
          "name": "stdout",
          "text": [
            "How can I help you?: Explain me the relationship with diabetes and cardiovascular risk factors\n",
            "Diabetes, particularly type 2 diabetes (T2DM), is associated with an increased risk of developing cardiovascular diseases (CVD). This relationship is multifaceted and involves several cardiometabolic risk factors that are commonly present in individuals with T2DM.\n",
            "\n",
            "One of the major risk factors is hypertension, or high blood pressure. People with T2DM are more likely to develop hypertension due to the presence of IR, which can lead to increased salt and water retention in the body, as well as increased activity of the renin-angiotensin-aldosterone system (RAAS). This can result in elevated blood pressure levels, which in turn increase the risk of CVD.\n",
            "\n",
            "Dyslipidemia, or abnormal lipid levels, is another significant risk factor. People with T2DM often have high levels of triglycerides, low levels of high-density lipoprotein (HDL) cholesterol, and high levels of low-density lipoprotein (LDL) cholesterol, which can contribute to the development of atherosclerosis and CVD.\n",
            "\n",
            "Obesity, particularly central obesity, is also a major risk factor for both T2DM and CVD. The excess adipose tissue in individuals with obesity can lead to the release of pro-inflammatory cytokines, which can contribute to the development of IR and CVD. Additionally, obesity can lead to the accumulation of fat in the liver, which can result in non-alcoholic fatty liver disease (NAFLD) and an increased risk of CVD.\n",
            "\n",
            "Insulin resistance (IR) is a hallmark of T2DM and is also associated with an increased risk of CVD. IR can lead to the accumulation of lipids in the arterial wall, which can contribute to the development of atherosclerosis and CVD. Additionally, IR can lead to the activation of inflammatory pathways, which can contribute to the development of CVD.\n",
            "\n",
            "Impaired glucose tolerance (IGT) is a precursor to T2DM and is also associated with an increased risk of CVD. IGT is characterized by elevated blood glucose levels after a meal, but not to the extent of diabetes. Individuals with IGT are at an increased risk of developing CVD due to the presence of IR, dyslipidemia, and hypertension.\n",
            "\n",
            "Unhealthy lifestyle factors, such as smoking, physical inactivity, and unhealthy diet, are also associated with an increased risk of both T2DM and CVD. These factors can contribute to the development of IR, dyslipidemia, and hypertension, as well as directly contribute to the development of CVD.\n",
            "\n",
            "In summary, the relationship between diabetes and cardiovascular risk factors is complex and multifaceted. The presence of several cardiometabolic risk factors, including hypertension, dyslipidemia, obesity, IR, IGT, and unhealthy lifestyle factors, increases the risk of developing CVD in individuals with T2DM. Therefore, it is essential to manage these risk factors, in addition to glycemic control, to prevent the occurrence of serious CVD outcomes in individuals with T2DM.\n"
          ]
        }
      ]
    }
  ]
}
